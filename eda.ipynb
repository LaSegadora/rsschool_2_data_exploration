{
 "cells": [
  {
   "cell_type": "code",
   "execution_count": 1,
   "id": "b489cb9e",
   "metadata": {},
   "outputs": [],
   "source": [
    "import pandas as pd\n",
    "import seaborn as sns\n",
    "import matplotlib.pyplot as plt"
   ]
  },
  {
   "cell_type": "code",
   "execution_count": 2,
   "id": "965eb1d4",
   "metadata": {},
   "outputs": [],
   "source": [
    "data = pd.read_csv(r'D:/train.csv')\n",
    "data.loc[(data['Age'] < 18), 'Sex'] = 'child'"
   ]
  },
  {
   "cell_type": "code",
   "execution_count": 3,
   "id": "de891162",
   "metadata": {},
   "outputs": [
    {
     "data": {
      "text/html": [
       "<div>\n",
       "<style scoped>\n",
       "    .dataframe tbody tr th:only-of-type {\n",
       "        vertical-align: middle;\n",
       "    }\n",
       "\n",
       "    .dataframe tbody tr th {\n",
       "        vertical-align: top;\n",
       "    }\n",
       "\n",
       "    .dataframe thead th {\n",
       "        text-align: right;\n",
       "    }\n",
       "</style>\n",
       "<table border=\"1\" class=\"dataframe\">\n",
       "  <thead>\n",
       "    <tr style=\"text-align: right;\">\n",
       "      <th></th>\n",
       "      <th>PassengerId</th>\n",
       "      <th>Survived</th>\n",
       "      <th>Pclass</th>\n",
       "      <th>Name</th>\n",
       "      <th>Sex</th>\n",
       "      <th>Age</th>\n",
       "      <th>SibSp</th>\n",
       "      <th>Parch</th>\n",
       "      <th>Ticket</th>\n",
       "      <th>Fare</th>\n",
       "      <th>Cabin</th>\n",
       "      <th>Embarked</th>\n",
       "    </tr>\n",
       "  </thead>\n",
       "  <tbody>\n",
       "    <tr>\n",
       "      <th>0</th>\n",
       "      <td>0</td>\n",
       "      <td>1</td>\n",
       "      <td>1</td>\n",
       "      <td>Oconnor, Frankie</td>\n",
       "      <td>male</td>\n",
       "      <td>NaN</td>\n",
       "      <td>2</td>\n",
       "      <td>0</td>\n",
       "      <td>209245</td>\n",
       "      <td>27.14</td>\n",
       "      <td>C12239</td>\n",
       "      <td>S</td>\n",
       "    </tr>\n",
       "    <tr>\n",
       "      <th>1</th>\n",
       "      <td>1</td>\n",
       "      <td>0</td>\n",
       "      <td>3</td>\n",
       "      <td>Bryan, Drew</td>\n",
       "      <td>male</td>\n",
       "      <td>NaN</td>\n",
       "      <td>0</td>\n",
       "      <td>0</td>\n",
       "      <td>27323</td>\n",
       "      <td>13.35</td>\n",
       "      <td>NaN</td>\n",
       "      <td>S</td>\n",
       "    </tr>\n",
       "    <tr>\n",
       "      <th>2</th>\n",
       "      <td>2</td>\n",
       "      <td>0</td>\n",
       "      <td>3</td>\n",
       "      <td>Owens, Kenneth</td>\n",
       "      <td>child</td>\n",
       "      <td>0.33</td>\n",
       "      <td>1</td>\n",
       "      <td>2</td>\n",
       "      <td>CA 457703</td>\n",
       "      <td>71.29</td>\n",
       "      <td>NaN</td>\n",
       "      <td>S</td>\n",
       "    </tr>\n",
       "    <tr>\n",
       "      <th>3</th>\n",
       "      <td>3</td>\n",
       "      <td>0</td>\n",
       "      <td>3</td>\n",
       "      <td>Kramer, James</td>\n",
       "      <td>male</td>\n",
       "      <td>19.00</td>\n",
       "      <td>0</td>\n",
       "      <td>0</td>\n",
       "      <td>A. 10866</td>\n",
       "      <td>13.04</td>\n",
       "      <td>NaN</td>\n",
       "      <td>S</td>\n",
       "    </tr>\n",
       "    <tr>\n",
       "      <th>4</th>\n",
       "      <td>4</td>\n",
       "      <td>1</td>\n",
       "      <td>3</td>\n",
       "      <td>Bond, Michael</td>\n",
       "      <td>male</td>\n",
       "      <td>25.00</td>\n",
       "      <td>0</td>\n",
       "      <td>0</td>\n",
       "      <td>427635</td>\n",
       "      <td>7.76</td>\n",
       "      <td>NaN</td>\n",
       "      <td>S</td>\n",
       "    </tr>\n",
       "  </tbody>\n",
       "</table>\n",
       "</div>"
      ],
      "text/plain": [
       "   PassengerId  Survived  Pclass              Name    Sex    Age  SibSp  \\\n",
       "0            0         1       1  Oconnor, Frankie   male    NaN      2   \n",
       "1            1         0       3       Bryan, Drew   male    NaN      0   \n",
       "2            2         0       3    Owens, Kenneth  child   0.33      1   \n",
       "3            3         0       3     Kramer, James   male  19.00      0   \n",
       "4            4         1       3     Bond, Michael   male  25.00      0   \n",
       "\n",
       "   Parch     Ticket   Fare   Cabin Embarked  \n",
       "0      0     209245  27.14  C12239        S  \n",
       "1      0      27323  13.35     NaN        S  \n",
       "2      2  CA 457703  71.29     NaN        S  \n",
       "3      0   A. 10866  13.04     NaN        S  \n",
       "4      0     427635   7.76     NaN        S  "
      ]
     },
     "execution_count": 3,
     "metadata": {},
     "output_type": "execute_result"
    }
   ],
   "source": [
    "data.head()"
   ]
  },
  {
   "cell_type": "code",
   "execution_count": 4,
   "id": "f3b68f78",
   "metadata": {},
   "outputs": [
    {
     "data": {
      "text/plain": [
       "PassengerId    100000\n",
       "Survived       100000\n",
       "Pclass         100000\n",
       "Name           100000\n",
       "Sex            100000\n",
       "Age             96708\n",
       "SibSp          100000\n",
       "Parch          100000\n",
       "Ticket          95377\n",
       "Fare            99866\n",
       "Cabin           32134\n",
       "Embarked        99750\n",
       "dtype: int64"
      ]
     },
     "execution_count": 4,
     "metadata": {},
     "output_type": "execute_result"
    }
   ],
   "source": [
    "data.count()"
   ]
  },
  {
   "cell_type": "code",
   "execution_count": 5,
   "id": "824499cf",
   "metadata": {},
   "outputs": [
    {
     "data": {
      "text/html": [
       "<div>\n",
       "<style scoped>\n",
       "    .dataframe tbody tr th:only-of-type {\n",
       "        vertical-align: middle;\n",
       "    }\n",
       "\n",
       "    .dataframe tbody tr th {\n",
       "        vertical-align: top;\n",
       "    }\n",
       "\n",
       "    .dataframe thead th {\n",
       "        text-align: right;\n",
       "    }\n",
       "</style>\n",
       "<table border=\"1\" class=\"dataframe\">\n",
       "  <thead>\n",
       "    <tr style=\"text-align: right;\">\n",
       "      <th></th>\n",
       "      <th>PassengerId</th>\n",
       "      <th>Survived</th>\n",
       "      <th>Name</th>\n",
       "      <th>Sex</th>\n",
       "      <th>Age</th>\n",
       "      <th>SibSp</th>\n",
       "      <th>Parch</th>\n",
       "      <th>Ticket</th>\n",
       "      <th>Fare</th>\n",
       "      <th>Cabin</th>\n",
       "      <th>Embarked</th>\n",
       "    </tr>\n",
       "    <tr>\n",
       "      <th>Pclass</th>\n",
       "      <th></th>\n",
       "      <th></th>\n",
       "      <th></th>\n",
       "      <th></th>\n",
       "      <th></th>\n",
       "      <th></th>\n",
       "      <th></th>\n",
       "      <th></th>\n",
       "      <th></th>\n",
       "      <th></th>\n",
       "      <th></th>\n",
       "    </tr>\n",
       "  </thead>\n",
       "  <tbody>\n",
       "    <tr>\n",
       "      <th>1</th>\n",
       "      <td>30315</td>\n",
       "      <td>30315</td>\n",
       "      <td>30315</td>\n",
       "      <td>30315</td>\n",
       "      <td>29353</td>\n",
       "      <td>30315</td>\n",
       "      <td>30315</td>\n",
       "      <td>30288</td>\n",
       "      <td>30275</td>\n",
       "      <td>26463</td>\n",
       "      <td>30229</td>\n",
       "    </tr>\n",
       "    <tr>\n",
       "      <th>2</th>\n",
       "      <td>28679</td>\n",
       "      <td>28679</td>\n",
       "      <td>28679</td>\n",
       "      <td>28679</td>\n",
       "      <td>27731</td>\n",
       "      <td>28679</td>\n",
       "      <td>28679</td>\n",
       "      <td>27855</td>\n",
       "      <td>28637</td>\n",
       "      <td>3520</td>\n",
       "      <td>28609</td>\n",
       "    </tr>\n",
       "    <tr>\n",
       "      <th>3</th>\n",
       "      <td>41006</td>\n",
       "      <td>41006</td>\n",
       "      <td>41006</td>\n",
       "      <td>41006</td>\n",
       "      <td>39624</td>\n",
       "      <td>41006</td>\n",
       "      <td>41006</td>\n",
       "      <td>37234</td>\n",
       "      <td>40954</td>\n",
       "      <td>2151</td>\n",
       "      <td>40912</td>\n",
       "    </tr>\n",
       "  </tbody>\n",
       "</table>\n",
       "</div>"
      ],
      "text/plain": [
       "        PassengerId  Survived   Name    Sex    Age  SibSp  Parch  Ticket  \\\n",
       "Pclass                                                                     \n",
       "1             30315     30315  30315  30315  29353  30315  30315   30288   \n",
       "2             28679     28679  28679  28679  27731  28679  28679   27855   \n",
       "3             41006     41006  41006  41006  39624  41006  41006   37234   \n",
       "\n",
       "         Fare  Cabin  Embarked  \n",
       "Pclass                          \n",
       "1       30275  26463     30229  \n",
       "2       28637   3520     28609  \n",
       "3       40954   2151     40912  "
      ]
     },
     "execution_count": 5,
     "metadata": {},
     "output_type": "execute_result"
    }
   ],
   "source": [
    "data.groupby('Pclass').count()"
   ]
  },
  {
   "cell_type": "code",
   "execution_count": 6,
   "id": "436ae125",
   "metadata": {},
   "outputs": [
    {
     "data": {
      "text/html": [
       "<div>\n",
       "<style scoped>\n",
       "    .dataframe tbody tr th:only-of-type {\n",
       "        vertical-align: middle;\n",
       "    }\n",
       "\n",
       "    .dataframe tbody tr th {\n",
       "        vertical-align: top;\n",
       "    }\n",
       "\n",
       "    .dataframe thead th {\n",
       "        text-align: right;\n",
       "    }\n",
       "</style>\n",
       "<table border=\"1\" class=\"dataframe\">\n",
       "  <thead>\n",
       "    <tr style=\"text-align: right;\">\n",
       "      <th></th>\n",
       "      <th>PassengerId</th>\n",
       "      <th>Survived</th>\n",
       "      <th>Pclass</th>\n",
       "      <th>Name</th>\n",
       "      <th>Sex</th>\n",
       "      <th>Age</th>\n",
       "      <th>Parch</th>\n",
       "      <th>Ticket</th>\n",
       "      <th>Fare</th>\n",
       "      <th>Cabin</th>\n",
       "      <th>Embarked</th>\n",
       "    </tr>\n",
       "    <tr>\n",
       "      <th>SibSp</th>\n",
       "      <th></th>\n",
       "      <th></th>\n",
       "      <th></th>\n",
       "      <th></th>\n",
       "      <th></th>\n",
       "      <th></th>\n",
       "      <th></th>\n",
       "      <th></th>\n",
       "      <th></th>\n",
       "      <th></th>\n",
       "      <th></th>\n",
       "    </tr>\n",
       "  </thead>\n",
       "  <tbody>\n",
       "    <tr>\n",
       "      <th>0</th>\n",
       "      <td>73308</td>\n",
       "      <td>73308</td>\n",
       "      <td>73308</td>\n",
       "      <td>73308</td>\n",
       "      <td>73308</td>\n",
       "      <td>70858</td>\n",
       "      <td>73308</td>\n",
       "      <td>69569</td>\n",
       "      <td>73208</td>\n",
       "      <td>20456</td>\n",
       "      <td>73133</td>\n",
       "    </tr>\n",
       "    <tr>\n",
       "      <th>1</th>\n",
       "      <td>19758</td>\n",
       "      <td>19758</td>\n",
       "      <td>19758</td>\n",
       "      <td>19758</td>\n",
       "      <td>19758</td>\n",
       "      <td>19140</td>\n",
       "      <td>19758</td>\n",
       "      <td>19507</td>\n",
       "      <td>19728</td>\n",
       "      <td>9316</td>\n",
       "      <td>19692</td>\n",
       "    </tr>\n",
       "    <tr>\n",
       "      <th>2</th>\n",
       "      <td>3703</td>\n",
       "      <td>3703</td>\n",
       "      <td>3703</td>\n",
       "      <td>3703</td>\n",
       "      <td>3703</td>\n",
       "      <td>3590</td>\n",
       "      <td>3703</td>\n",
       "      <td>3667</td>\n",
       "      <td>3702</td>\n",
       "      <td>1477</td>\n",
       "      <td>3696</td>\n",
       "    </tr>\n",
       "    <tr>\n",
       "      <th>3</th>\n",
       "      <td>1635</td>\n",
       "      <td>1635</td>\n",
       "      <td>1635</td>\n",
       "      <td>1635</td>\n",
       "      <td>1635</td>\n",
       "      <td>1580</td>\n",
       "      <td>1635</td>\n",
       "      <td>1101</td>\n",
       "      <td>1633</td>\n",
       "      <td>603</td>\n",
       "      <td>1634</td>\n",
       "    </tr>\n",
       "    <tr>\n",
       "      <th>4</th>\n",
       "      <td>1168</td>\n",
       "      <td>1168</td>\n",
       "      <td>1168</td>\n",
       "      <td>1168</td>\n",
       "      <td>1168</td>\n",
       "      <td>1123</td>\n",
       "      <td>1168</td>\n",
       "      <td>1115</td>\n",
       "      <td>1167</td>\n",
       "      <td>187</td>\n",
       "      <td>1167</td>\n",
       "    </tr>\n",
       "    <tr>\n",
       "      <th>5</th>\n",
       "      <td>132</td>\n",
       "      <td>132</td>\n",
       "      <td>132</td>\n",
       "      <td>132</td>\n",
       "      <td>132</td>\n",
       "      <td>125</td>\n",
       "      <td>132</td>\n",
       "      <td>132</td>\n",
       "      <td>132</td>\n",
       "      <td>37</td>\n",
       "      <td>132</td>\n",
       "    </tr>\n",
       "    <tr>\n",
       "      <th>8</th>\n",
       "      <td>296</td>\n",
       "      <td>296</td>\n",
       "      <td>296</td>\n",
       "      <td>296</td>\n",
       "      <td>296</td>\n",
       "      <td>292</td>\n",
       "      <td>296</td>\n",
       "      <td>286</td>\n",
       "      <td>296</td>\n",
       "      <td>58</td>\n",
       "      <td>296</td>\n",
       "    </tr>\n",
       "  </tbody>\n",
       "</table>\n",
       "</div>"
      ],
      "text/plain": [
       "       PassengerId  Survived  Pclass   Name    Sex    Age  Parch  Ticket  \\\n",
       "SibSp                                                                      \n",
       "0            73308     73308   73308  73308  73308  70858  73308   69569   \n",
       "1            19758     19758   19758  19758  19758  19140  19758   19507   \n",
       "2             3703      3703    3703   3703   3703   3590   3703    3667   \n",
       "3             1635      1635    1635   1635   1635   1580   1635    1101   \n",
       "4             1168      1168    1168   1168   1168   1123   1168    1115   \n",
       "5              132       132     132    132    132    125    132     132   \n",
       "8              296       296     296    296    296    292    296     286   \n",
       "\n",
       "        Fare  Cabin  Embarked  \n",
       "SibSp                          \n",
       "0      73208  20456     73133  \n",
       "1      19728   9316     19692  \n",
       "2       3702   1477      3696  \n",
       "3       1633    603      1634  \n",
       "4       1167    187      1167  \n",
       "5        132     37       132  \n",
       "8        296     58       296  "
      ]
     },
     "execution_count": 6,
     "metadata": {},
     "output_type": "execute_result"
    }
   ],
   "source": [
    "data.groupby('SibSp').count()"
   ]
  },
  {
   "cell_type": "code",
   "execution_count": 7,
   "metadata": {},
   "outputs": [
    {
     "data": {
      "text/html": [
       "<div>\n",
       "<style scoped>\n",
       "    .dataframe tbody tr th:only-of-type {\n",
       "        vertical-align: middle;\n",
       "    }\n",
       "\n",
       "    .dataframe tbody tr th {\n",
       "        vertical-align: top;\n",
       "    }\n",
       "\n",
       "    .dataframe thead th {\n",
       "        text-align: right;\n",
       "    }\n",
       "</style>\n",
       "<table border=\"1\" class=\"dataframe\">\n",
       "  <thead>\n",
       "    <tr style=\"text-align: right;\">\n",
       "      <th></th>\n",
       "      <th>PassengerId</th>\n",
       "      <th>Survived</th>\n",
       "      <th>Pclass</th>\n",
       "      <th>Name</th>\n",
       "      <th>Sex</th>\n",
       "      <th>Age</th>\n",
       "      <th>SibSp</th>\n",
       "      <th>Ticket</th>\n",
       "      <th>Fare</th>\n",
       "      <th>Cabin</th>\n",
       "      <th>Embarked</th>\n",
       "    </tr>\n",
       "    <tr>\n",
       "      <th>Parch</th>\n",
       "      <th></th>\n",
       "      <th></th>\n",
       "      <th></th>\n",
       "      <th></th>\n",
       "      <th></th>\n",
       "      <th></th>\n",
       "      <th></th>\n",
       "      <th></th>\n",
       "      <th></th>\n",
       "      <th></th>\n",
       "      <th></th>\n",
       "    </tr>\n",
       "  </thead>\n",
       "  <tbody>\n",
       "    <tr>\n",
       "      <th>0</th>\n",
       "      <td>73540</td>\n",
       "      <td>73540</td>\n",
       "      <td>73540</td>\n",
       "      <td>73540</td>\n",
       "      <td>73540</td>\n",
       "      <td>71109</td>\n",
       "      <td>73540</td>\n",
       "      <td>69578</td>\n",
       "      <td>73446</td>\n",
       "      <td>22423</td>\n",
       "      <td>73372</td>\n",
       "    </tr>\n",
       "    <tr>\n",
       "      <th>1</th>\n",
       "      <td>12996</td>\n",
       "      <td>12996</td>\n",
       "      <td>12996</td>\n",
       "      <td>12996</td>\n",
       "      <td>12996</td>\n",
       "      <td>12542</td>\n",
       "      <td>12996</td>\n",
       "      <td>12646</td>\n",
       "      <td>12978</td>\n",
       "      <td>3644</td>\n",
       "      <td>12954</td>\n",
       "    </tr>\n",
       "    <tr>\n",
       "      <th>2</th>\n",
       "      <td>11236</td>\n",
       "      <td>11236</td>\n",
       "      <td>11236</td>\n",
       "      <td>11236</td>\n",
       "      <td>11236</td>\n",
       "      <td>10900</td>\n",
       "      <td>11236</td>\n",
       "      <td>11044</td>\n",
       "      <td>11216</td>\n",
       "      <td>5064</td>\n",
       "      <td>11200</td>\n",
       "    </tr>\n",
       "    <tr>\n",
       "      <th>3</th>\n",
       "      <td>983</td>\n",
       "      <td>983</td>\n",
       "      <td>983</td>\n",
       "      <td>983</td>\n",
       "      <td>983</td>\n",
       "      <td>948</td>\n",
       "      <td>983</td>\n",
       "      <td>869</td>\n",
       "      <td>981</td>\n",
       "      <td>547</td>\n",
       "      <td>981</td>\n",
       "    </tr>\n",
       "    <tr>\n",
       "      <th>4</th>\n",
       "      <td>446</td>\n",
       "      <td>446</td>\n",
       "      <td>446</td>\n",
       "      <td>446</td>\n",
       "      <td>446</td>\n",
       "      <td>432</td>\n",
       "      <td>446</td>\n",
       "      <td>446</td>\n",
       "      <td>446</td>\n",
       "      <td>171</td>\n",
       "      <td>444</td>\n",
       "    </tr>\n",
       "    <tr>\n",
       "      <th>5</th>\n",
       "      <td>331</td>\n",
       "      <td>331</td>\n",
       "      <td>331</td>\n",
       "      <td>331</td>\n",
       "      <td>331</td>\n",
       "      <td>321</td>\n",
       "      <td>331</td>\n",
       "      <td>328</td>\n",
       "      <td>331</td>\n",
       "      <td>145</td>\n",
       "      <td>331</td>\n",
       "    </tr>\n",
       "    <tr>\n",
       "      <th>6</th>\n",
       "      <td>204</td>\n",
       "      <td>204</td>\n",
       "      <td>204</td>\n",
       "      <td>204</td>\n",
       "      <td>204</td>\n",
       "      <td>198</td>\n",
       "      <td>204</td>\n",
       "      <td>202</td>\n",
       "      <td>204</td>\n",
       "      <td>33</td>\n",
       "      <td>204</td>\n",
       "    </tr>\n",
       "    <tr>\n",
       "      <th>9</th>\n",
       "      <td>264</td>\n",
       "      <td>264</td>\n",
       "      <td>264</td>\n",
       "      <td>264</td>\n",
       "      <td>264</td>\n",
       "      <td>258</td>\n",
       "      <td>264</td>\n",
       "      <td>264</td>\n",
       "      <td>264</td>\n",
       "      <td>107</td>\n",
       "      <td>264</td>\n",
       "    </tr>\n",
       "  </tbody>\n",
       "</table>\n",
       "</div>"
      ],
      "text/plain": [
       "       PassengerId  Survived  Pclass   Name    Sex    Age  SibSp  Ticket  \\\n",
       "Parch                                                                      \n",
       "0            73540     73540   73540  73540  73540  71109  73540   69578   \n",
       "1            12996     12996   12996  12996  12996  12542  12996   12646   \n",
       "2            11236     11236   11236  11236  11236  10900  11236   11044   \n",
       "3              983       983     983    983    983    948    983     869   \n",
       "4              446       446     446    446    446    432    446     446   \n",
       "5              331       331     331    331    331    321    331     328   \n",
       "6              204       204     204    204    204    198    204     202   \n",
       "9              264       264     264    264    264    258    264     264   \n",
       "\n",
       "        Fare  Cabin  Embarked  \n",
       "Parch                          \n",
       "0      73446  22423     73372  \n",
       "1      12978   3644     12954  \n",
       "2      11216   5064     11200  \n",
       "3        981    547       981  \n",
       "4        446    171       444  \n",
       "5        331    145       331  \n",
       "6        204     33       204  \n",
       "9        264    107       264  "
      ]
     },
     "execution_count": 7,
     "metadata": {},
     "output_type": "execute_result"
    }
   ],
   "source": [
    "data.groupby('Parch').count()"
   ]
  },
  {
   "cell_type": "code",
   "execution_count": 8,
   "id": "ab77d3ff",
   "metadata": {},
   "outputs": [
    {
     "data": {
      "text/html": [
       "<div>\n",
       "<style scoped>\n",
       "    .dataframe tbody tr th:only-of-type {\n",
       "        vertical-align: middle;\n",
       "    }\n",
       "\n",
       "    .dataframe tbody tr th {\n",
       "        vertical-align: top;\n",
       "    }\n",
       "\n",
       "    .dataframe thead th {\n",
       "        text-align: right;\n",
       "    }\n",
       "</style>\n",
       "<table border=\"1\" class=\"dataframe\">\n",
       "  <thead>\n",
       "    <tr style=\"text-align: right;\">\n",
       "      <th></th>\n",
       "      <th>PassengerId</th>\n",
       "      <th>Survived</th>\n",
       "      <th>Pclass</th>\n",
       "      <th>Name</th>\n",
       "      <th>Sex</th>\n",
       "      <th>Age</th>\n",
       "      <th>SibSp</th>\n",
       "      <th>Parch</th>\n",
       "      <th>Ticket</th>\n",
       "      <th>Fare</th>\n",
       "      <th>Cabin</th>\n",
       "    </tr>\n",
       "    <tr>\n",
       "      <th>Embarked</th>\n",
       "      <th></th>\n",
       "      <th></th>\n",
       "      <th></th>\n",
       "      <th></th>\n",
       "      <th></th>\n",
       "      <th></th>\n",
       "      <th></th>\n",
       "      <th></th>\n",
       "      <th></th>\n",
       "      <th></th>\n",
       "      <th></th>\n",
       "    </tr>\n",
       "  </thead>\n",
       "  <tbody>\n",
       "    <tr>\n",
       "      <th>C</th>\n",
       "      <td>22187</td>\n",
       "      <td>22187</td>\n",
       "      <td>22187</td>\n",
       "      <td>22187</td>\n",
       "      <td>22187</td>\n",
       "      <td>21456</td>\n",
       "      <td>22187</td>\n",
       "      <td>22187</td>\n",
       "      <td>21949</td>\n",
       "      <td>22154</td>\n",
       "      <td>12979</td>\n",
       "    </tr>\n",
       "    <tr>\n",
       "      <th>Q</th>\n",
       "      <td>5424</td>\n",
       "      <td>5424</td>\n",
       "      <td>5424</td>\n",
       "      <td>5424</td>\n",
       "      <td>5424</td>\n",
       "      <td>5237</td>\n",
       "      <td>5424</td>\n",
       "      <td>5424</td>\n",
       "      <td>5369</td>\n",
       "      <td>5416</td>\n",
       "      <td>4022</td>\n",
       "    </tr>\n",
       "    <tr>\n",
       "      <th>S</th>\n",
       "      <td>72139</td>\n",
       "      <td>72139</td>\n",
       "      <td>72139</td>\n",
       "      <td>72139</td>\n",
       "      <td>72139</td>\n",
       "      <td>69767</td>\n",
       "      <td>72139</td>\n",
       "      <td>72139</td>\n",
       "      <td>67818</td>\n",
       "      <td>72047</td>\n",
       "      <td>15045</td>\n",
       "    </tr>\n",
       "  </tbody>\n",
       "</table>\n",
       "</div>"
      ],
      "text/plain": [
       "          PassengerId  Survived  Pclass   Name    Sex    Age  SibSp  Parch  \\\n",
       "Embarked                                                                     \n",
       "C               22187     22187   22187  22187  22187  21456  22187  22187   \n",
       "Q                5424      5424    5424   5424   5424   5237   5424   5424   \n",
       "S               72139     72139   72139  72139  72139  69767  72139  72139   \n",
       "\n",
       "          Ticket   Fare  Cabin  \n",
       "Embarked                        \n",
       "C          21949  22154  12979  \n",
       "Q           5369   5416   4022  \n",
       "S          67818  72047  15045  "
      ]
     },
     "execution_count": 8,
     "metadata": {},
     "output_type": "execute_result"
    }
   ],
   "source": [
    "data.groupby('Embarked').count()"
   ]
  },
  {
   "cell_type": "code",
   "execution_count": 9,
   "metadata": {},
   "outputs": [
    {
     "data": {
      "text/plain": [
       "<AxesSubplot:>"
      ]
     },
     "execution_count": 9,
     "metadata": {},
     "output_type": "execute_result"
    },
    {
     "data": {
      "image/png": "[encoded data removed]",
      "text/plain": [
       "<Figure size 1296x576 with 1 Axes>"
      ]
     },
     "metadata": {
      "needs_background": "light"
     },
     "output_type": "display_data"
    }
   ],
   "source": [
    "data['Age'].hist(bins=20,figsize=(18,8))"
   ]
  },
  {
   "cell_type": "code",
   "execution_count": 10,
   "id": "6c54fbe0",
   "metadata": {},
   "outputs": [
    {
     "data": {
      "text/plain": [
       "<AxesSubplot:xlabel='Survived', ylabel='PassengerId'>"
      ]
     },
     "execution_count": 10,
     "metadata": {},
     "output_type": "execute_result"
    },
    {
     "data": {
      "image/png": "[encoded data removed]",
      "text/plain": [
       "<Figure size 432x288 with 1 Axes>"
      ]
     },
     "metadata": {
      "needs_background": "light"
     },
     "output_type": "display_data"
    }
   ],
   "source": [
    "data_ = data.groupby('Survived').count()\n",
    "sns.barplot(x=data_.index,y=data_['PassengerId'])"
   ]
  },
  {
   "cell_type": "code",
   "execution_count": 11,
   "metadata": {},
   "outputs": [
    {
     "data": {
      "text/plain": [
       "<AxesSubplot:xlabel='Sex', ylabel='PassengerId'>"
      ]
     },
     "execution_count": 11,
     "metadata": {},
     "output_type": "execute_result"
    },
    {
     "data": {
      "image/png": "[encoded data removed]",
      "text/plain": [
       "<Figure size 432x288 with 1 Axes>"
      ]
     },
     "metadata": {
      "needs_background": "light"
     },
     "output_type": "display_data"
    }
   ],
   "source": [
    "data_ = data_ = data.groupby('Sex').count()\n",
    "sns.barplot(x=data_.index,y=data_['PassengerId'])"
   ]
  },
  {
   "cell_type": "code",
   "execution_count": 12,
   "id": "f9452f8d",
   "metadata": {},
   "outputs": [],
   "source": [
    "data_surv = data.query('Survived==1').drop(columns='Survived')\n",
    "data_not_surv = data.query('Survived==0').drop(columns='Survived')"
   ]
  },
  {
   "cell_type": "code",
   "execution_count": 13,
   "metadata": {},
   "outputs": [
    {
     "data": {
      "text/html": [
       "<div>\n",
       "<style scoped>\n",
       "    .dataframe tbody tr th:only-of-type {\n",
       "        vertical-align: middle;\n",
       "    }\n",
       "\n",
       "    .dataframe tbody tr th {\n",
       "        vertical-align: top;\n",
       "    }\n",
       "\n",
       "    .dataframe thead th {\n",
       "        text-align: right;\n",
       "    }\n",
       "</style>\n",
       "<table border=\"1\" class=\"dataframe\">\n",
       "  <thead>\n",
       "    <tr style=\"text-align: right;\">\n",
       "      <th></th>\n",
       "      <th>PassengerId</th>\n",
       "      <th>Pclass</th>\n",
       "      <th>Name</th>\n",
       "      <th>Age</th>\n",
       "      <th>SibSp</th>\n",
       "      <th>Parch</th>\n",
       "      <th>Ticket</th>\n",
       "      <th>Fare</th>\n",
       "      <th>Cabin</th>\n",
       "      <th>Embarked</th>\n",
       "    </tr>\n",
       "    <tr>\n",
       "      <th>Sex</th>\n",
       "      <th></th>\n",
       "      <th></th>\n",
       "      <th></th>\n",
       "      <th></th>\n",
       "      <th></th>\n",
       "      <th></th>\n",
       "      <th></th>\n",
       "      <th></th>\n",
       "      <th></th>\n",
       "      <th></th>\n",
       "    </tr>\n",
       "  </thead>\n",
       "  <tbody>\n",
       "    <tr>\n",
       "      <th>child</th>\n",
       "      <td>5212</td>\n",
       "      <td>5212</td>\n",
       "      <td>5212</td>\n",
       "      <td>5212</td>\n",
       "      <td>5212</td>\n",
       "      <td>5212</td>\n",
       "      <td>4937</td>\n",
       "      <td>5205</td>\n",
       "      <td>766</td>\n",
       "      <td>5196</td>\n",
       "    </tr>\n",
       "    <tr>\n",
       "      <th>female</th>\n",
       "      <td>27128</td>\n",
       "      <td>27128</td>\n",
       "      <td>27128</td>\n",
       "      <td>26162</td>\n",
       "      <td>27128</td>\n",
       "      <td>27128</td>\n",
       "      <td>25533</td>\n",
       "      <td>27088</td>\n",
       "      <td>13587</td>\n",
       "      <td>27038</td>\n",
       "    </tr>\n",
       "    <tr>\n",
       "      <th>male</th>\n",
       "      <td>10434</td>\n",
       "      <td>10434</td>\n",
       "      <td>10434</td>\n",
       "      <td>10044</td>\n",
       "      <td>10434</td>\n",
       "      <td>10434</td>\n",
       "      <td>9891</td>\n",
       "      <td>10420</td>\n",
       "      <td>5204</td>\n",
       "      <td>10418</td>\n",
       "    </tr>\n",
       "  </tbody>\n",
       "</table>\n",
       "</div>"
      ],
      "text/plain": [
       "        PassengerId  Pclass   Name    Age  SibSp  Parch  Ticket   Fare  Cabin  \\\n",
       "Sex                                                                             \n",
       "child          5212    5212   5212   5212   5212   5212    4937   5205    766   \n",
       "female        27128   27128  27128  26162  27128  27128   25533  27088  13587   \n",
       "male          10434   10434  10434  10044  10434  10434    9891  10420   5204   \n",
       "\n",
       "        Embarked  \n",
       "Sex               \n",
       "child       5196  \n",
       "female     27038  \n",
       "male       10418  "
      ]
     },
     "execution_count": 13,
     "metadata": {},
     "output_type": "execute_result"
    }
   ],
   "source": [
    "data_surv.groupby('Sex').count()"
   ]
  },
  {
   "cell_type": "code",
   "execution_count": 14,
   "id": "827840d8",
   "metadata": {},
   "outputs": [
    {
     "data": {
      "text/plain": [
       "<AxesSubplot:xlabel='Sex', ylabel='Age'>"
      ]
     },
     "execution_count": 14,
     "metadata": {},
     "output_type": "execute_result"
    },
    {
     "data": {
      "image/png": "[encoded data removed]",
      "text/plain": [
       "<Figure size 432x288 with 1 Axes>"
      ]
     },
     "metadata": {
      "needs_background": "light"
     },
     "output_type": "display_data"
    }
   ],
   "source": [
    "sns.boxplot(x=data_surv['Sex'],y=data_surv['Age'])"
   ]
  },
  {
   "cell_type": "code",
   "execution_count": 15,
   "id": "b8b6fc67",
   "metadata": {},
   "outputs": [
    {
     "data": {
      "text/plain": [
       "<AxesSubplot:xlabel='Sex', ylabel='count'>"
      ]
     },
     "execution_count": 15,
     "metadata": {},
     "output_type": "execute_result"
    },
    {
     "data": {
      "image/png": "[encoded data removed]",
      "text/plain": [
       "<Figure size 432x288 with 1 Axes>"
      ]
     },
     "metadata": {
      "needs_background": "light"
     },
     "output_type": "display_data"
    }
   ],
   "source": [
    "sns.countplot(x='Sex', hue='Survived', data=data)"
   ]
  },
  {
   "cell_type": "code",
   "execution_count": 16,
   "id": "f246def8",
   "metadata": {},
   "outputs": [
    {
     "data": {
      "text/plain": [
       "<AxesSubplot:xlabel='Sex', ylabel='count'>"
      ]
     },
     "execution_count": 16,
     "metadata": {},
     "output_type": "execute_result"
    },
    {
     "data": {
      "image/png": "[encoded data removed]",
      "text/plain": [
       "<Figure size 432x288 with 1 Axes>"
      ]
     },
     "metadata": {
      "needs_background": "light"
     },
     "output_type": "display_data"
    }
   ],
   "source": [
    "sns.countplot(x='Sex', hue='Pclass', data=data)"
   ]
  },
  {
   "cell_type": "code",
   "execution_count": 17,
   "metadata": {},
   "outputs": [
    {
     "data": {
      "text/plain": [
       "<AxesSubplot:xlabel='Sex', ylabel='count'>"
      ]
     },
     "execution_count": 17,
     "metadata": {},
     "output_type": "execute_result"
    },
    {
     "data": {
      "image/png": "[encoded data removed]",
      "text/plain": [
       "<Figure size 432x288 with 1 Axes>"
      ]
     },
     "metadata": {
      "needs_background": "light"
     },
     "output_type": "display_data"
    }
   ],
   "source": [
    "sns.countplot(x='Sex', hue='Survived', data=data)"
   ]
  },
  {
   "cell_type": "code",
   "execution_count": 18,
   "id": "0e5af9e3",
   "metadata": {},
   "outputs": [
    {
     "data": {
      "text/plain": [
       "<seaborn.axisgrid.FacetGrid at 0x147ac4acf10>"
      ]
     },
     "execution_count": 18,
     "metadata": {},
     "output_type": "execute_result"
    },
    {
     "data": {
      "image/png": "[encoded data removed]",
      "text/plain": [
       "<Figure size 762.375x360 with 2 Axes>"
      ]
     },
     "metadata": {
      "needs_background": "light"
     },
     "output_type": "display_data"
    }
   ],
   "source": [
    "sns.catplot(x='Sex',hue='Pclass',col='Survived',data=data,kind='count')"
   ]
  },
  {
   "cell_type": "code",
   "execution_count": 19,
   "metadata": {},
   "outputs": [
    {
     "data": {
      "text/plain": [
       "<seaborn.axisgrid.FacetGrid at 0x147acf3e190>"
      ]
     },
     "execution_count": 19,
     "metadata": {},
     "output_type": "execute_result"
    },
    {
     "data": {
      "image/png": "[encoded data removed]",
      "text/plain": [
       "<Figure size 790.5x360 with 2 Axes>"
      ]
     },
     "metadata": {
      "needs_background": "light"
     },
     "output_type": "display_data"
    }
   ],
   "source": [
    "sns.catplot(x='Pclass',hue='Sex',col='Survived',data=data,kind='count')"
   ]
  },
  {
   "cell_type": "code",
   "execution_count": null,
   "id": "51599a8b",
   "metadata": {},
   "outputs": [],
   "source": []
  },
  {
   "cell_type": "code",
   "execution_count": null,
   "id": "6c41fb3d",
   "metadata": {},
   "outputs": [],
   "source": []
  },
  {
   "cell_type": "code",
   "execution_count": null,
   "id": "4bc2f9f7",
   "metadata": {},
   "outputs": [],
   "source": []
  },
  {
   "cell_type": "code",
   "execution_count": null,
   "id": "59cce1e3",
   "metadata": {},
   "outputs": [],
   "source": []
  },
  {
   "cell_type": "code",
   "execution_count": null,
   "id": "0a3d9e79",
   "metadata": {},
   "outputs": [],
   "source": []
  },
  {
   "cell_type": "code",
   "execution_count": null,
   "metadata": {},
   "outputs": [],
   "source": []
  },
  {
   "cell_type": "code",
   "execution_count": null,
   "metadata": {},
   "outputs": [],
   "source": []
  },
  {
   "cell_type": "markdown",
   "id": "d07912a0",
   "metadata": {},
   "source": [
    "# Context"
   ]
  },
  {
   "cell_type": "code",
   "execution_count": null,
   "id": "6b981d68",
   "metadata": {},
   "outputs": [],
   "source": []
  },
  {
   "cell_type": "markdown",
   "id": "9b4320c6",
   "metadata": {},
   "source": [
    "# Data quality assessment"
   ]
  },
  {
   "cell_type": "code",
   "execution_count": null,
   "id": "e443ca82",
   "metadata": {},
   "outputs": [],
   "source": []
  },
  {
   "cell_type": "markdown",
   "id": "5408eca5",
   "metadata": {},
   "source": [
    "# Data exploration"
   ]
  },
  {
   "cell_type": "code",
   "execution_count": null,
   "id": "2417286d",
   "metadata": {},
   "outputs": [],
   "source": []
  },
  {
   "cell_type": "markdown",
   "id": "034945c8",
   "metadata": {},
   "source": [
    "# Summary"
   ]
  },
  {
   "cell_type": "code",
   "execution_count": null,
   "id": "72e3fb13",
   "metadata": {},
   "outputs": [],
   "source": []
  }
 ],
 "metadata": {
  "kernelspec": {
   "display_name": "Python 3 (ipykernel)",
   "language": "python",
   "name": "python3"
  },
  "language_info": {
   "codemirror_mode": {
    "name": "ipython",
    "version": 3
   },
   "file_extension": ".py",
   "mimetype": "text/x-python",
   "name": "python",
   "nbconvert_exporter": "python",
   "pygments_lexer": "ipython3",
   "version": "3.9.7"
  },
  "toc": {
   "base_numbering": 1,
   "nav_menu": {},
   "number_sections": true,
   "sideBar": true,
   "skip_h1_title": false,
   "title_cell": "Table of Contents",
   "title_sidebar": "Contents",
   "toc_cell": false,
   "toc_position": {},
   "toc_section_display": true,
   "toc_window_display": false
  }
 },
 "nbformat": 4,
 "nbformat_minor": 5
}
