{
 "cells": [
  {
   "cell_type": "code",
   "execution_count": 1,
   "id": "b489cb9e",
   "metadata": {},
   "outputs": [],
   "source": [
    "import pandas as pd\n",
    "import seaborn as sns\n",
    "import matplotlib.pyplot as plt"
   ]
  },
  {
   "cell_type": "code",
   "execution_count": 2,
   "id": "965eb1d4",
   "metadata": {},
   "outputs": [],
   "source": [
    "data = pd.read_csv(r'D:/train.csv')\n",
    "data.loc[(data['Age'] < 18), 'Sex'] = 'child'"
   ]
  },
  {
   "cell_type": "code",
   "execution_count": null,
   "id": "f9452f8d",
   "metadata": {},
   "outputs": [],
   "source": [
    "data_surv = data.query('Survived==1').drop(columns='Survived')\n",
    "data_not_surv = data.query('Survived==0').drop(columns='Survived')"
   ]
  },
  {
   "cell_type": "code",
   "execution_count": 3,
   "id": "de891162",
   "metadata": {},
   "outputs": [
    {
     "data": {
      "text/html": [
       "<div>\n",
       "<style scoped>\n",
       "    .dataframe tbody tr th:only-of-type {\n",
       "        vertical-align: middle;\n",
       "    }\n",
       "\n",
       "    .dataframe tbody tr th {\n",
       "        vertical-align: top;\n",
       "    }\n",
       "\n",
       "    .dataframe thead th {\n",
       "        text-align: right;\n",
       "    }\n",
       "</style>\n",
       "<table border=\"1\" class=\"dataframe\">\n",
       "  <thead>\n",
       "    <tr style=\"text-align: right;\">\n",
       "      <th></th>\n",
       "      <th>PassengerId</th>\n",
       "      <th>Survived</th>\n",
       "      <th>Pclass</th>\n",
       "      <th>Name</th>\n",
       "      <th>Sex</th>\n",
       "      <th>Age</th>\n",
       "      <th>SibSp</th>\n",
       "      <th>Parch</th>\n",
       "      <th>Ticket</th>\n",
       "      <th>Fare</th>\n",
       "      <th>Cabin</th>\n",
       "      <th>Embarked</th>\n",
       "    </tr>\n",
       "  </thead>\n",
       "  <tbody>\n",
       "    <tr>\n",
       "      <th>0</th>\n",
       "      <td>0</td>\n",
       "      <td>1</td>\n",
       "      <td>1</td>\n",
       "      <td>Oconnor, Frankie</td>\n",
       "      <td>male</td>\n",
       "      <td>NaN</td>\n",
       "      <td>2</td>\n",
       "      <td>0</td>\n",
       "      <td>209245</td>\n",
       "      <td>27.14</td>\n",
       "      <td>C12239</td>\n",
       "      <td>S</td>\n",
       "    </tr>\n",
       "    <tr>\n",
       "      <th>1</th>\n",
       "      <td>1</td>\n",
       "      <td>0</td>\n",
       "      <td>3</td>\n",
       "      <td>Bryan, Drew</td>\n",
       "      <td>male</td>\n",
       "      <td>NaN</td>\n",
       "      <td>0</td>\n",
       "      <td>0</td>\n",
       "      <td>27323</td>\n",
       "      <td>13.35</td>\n",
       "      <td>NaN</td>\n",
       "      <td>S</td>\n",
       "    </tr>\n",
       "    <tr>\n",
       "      <th>2</th>\n",
       "      <td>2</td>\n",
       "      <td>0</td>\n",
       "      <td>3</td>\n",
       "      <td>Owens, Kenneth</td>\n",
       "      <td>child</td>\n",
       "      <td>0.33</td>\n",
       "      <td>1</td>\n",
       "      <td>2</td>\n",
       "      <td>CA 457703</td>\n",
       "      <td>71.29</td>\n",
       "      <td>NaN</td>\n",
       "      <td>S</td>\n",
       "    </tr>\n",
       "    <tr>\n",
       "      <th>3</th>\n",
       "      <td>3</td>\n",
       "      <td>0</td>\n",
       "      <td>3</td>\n",
       "      <td>Kramer, James</td>\n",
       "      <td>male</td>\n",
       "      <td>19.00</td>\n",
       "      <td>0</td>\n",
       "      <td>0</td>\n",
       "      <td>A. 10866</td>\n",
       "      <td>13.04</td>\n",
       "      <td>NaN</td>\n",
       "      <td>S</td>\n",
       "    </tr>\n",
       "    <tr>\n",
       "      <th>4</th>\n",
       "      <td>4</td>\n",
       "      <td>1</td>\n",
       "      <td>3</td>\n",
       "      <td>Bond, Michael</td>\n",
       "      <td>male</td>\n",
       "      <td>25.00</td>\n",
       "      <td>0</td>\n",
       "      <td>0</td>\n",
       "      <td>427635</td>\n",
       "      <td>7.76</td>\n",
       "      <td>NaN</td>\n",
       "      <td>S</td>\n",
       "    </tr>\n",
       "  </tbody>\n",
       "</table>\n",
       "</div>"
      ],
      "text/plain": [
       "   PassengerId  Survived  Pclass              Name    Sex    Age  SibSp  \\\n",
       "0            0         1       1  Oconnor, Frankie   male    NaN      2   \n",
       "1            1         0       3       Bryan, Drew   male    NaN      0   \n",
       "2            2         0       3    Owens, Kenneth  child   0.33      1   \n",
       "3            3         0       3     Kramer, James   male  19.00      0   \n",
       "4            4         1       3     Bond, Michael   male  25.00      0   \n",
       "\n",
       "   Parch     Ticket   Fare   Cabin Embarked  \n",
       "0      0     209245  27.14  C12239        S  \n",
       "1      0      27323  13.35     NaN        S  \n",
       "2      2  CA 457703  71.29     NaN        S  \n",
       "3      0   A. 10866  13.04     NaN        S  \n",
       "4      0     427635   7.76     NaN        S  "
      ]
     },
     "execution_count": 3,
     "metadata": {},
     "output_type": "execute_result"
    }
   ],
   "source": [
    "data.head()"
   ]
  },
  {
   "cell_type": "markdown",
   "id": "d07912a0",
   "metadata": {},
   "source": [
    "# Context"
   ]
  },
  {
   "cell_type": "markdown",
   "id": "b2483f16",
   "metadata": {},
   "source": [
    "При анализе дети (пассажиры в возрасте до 18 лет) выделены в отдельный пол child."
   ]
  },
  {
   "cell_type": "markdown",
   "id": "9b4320c6",
   "metadata": {},
   "source": [
    "# Data quality assessment"
   ]
  },
  {
   "cell_type": "code",
   "execution_count": 20,
   "id": "f3b68f78",
   "metadata": {},
   "outputs": [
    {
     "data": {
      "text/plain": [
       "PassengerId        0\n",
       "Survived           0\n",
       "Pclass             0\n",
       "Name               0\n",
       "Sex                0\n",
       "Age            -3292\n",
       "SibSp              0\n",
       "Parch              0\n",
       "Ticket         -4623\n",
       "Fare            -134\n",
       "Cabin         -67866\n",
       "Embarked        -250\n",
       "dtype: int64"
      ]
     },
     "execution_count": 20,
     "metadata": {},
     "output_type": "execute_result"
    }
   ],
   "source": [
    "data.count() - 100000"
   ]
  },
  {
   "cell_type": "markdown",
   "id": "37e4026d",
   "metadata": {},
   "source": [
    "отсутствуют данные о возрасте: 3292 (3,3%)\n",
    "\n",
    "отсутствуют данные о билете: 4623 (4,6%)\n",
    "\n",
    "отсутствуют данные о каюте: 67866 (67,9%)"
   ]
  },
  {
   "cell_type": "markdown",
   "id": "5408eca5",
   "metadata": {},
   "source": [
    "# Data exploration"
   ]
  },
  {
   "cell_type": "markdown",
   "id": "5cdee9bc",
   "metadata": {},
   "source": [
    "Распределение пассажиров по возрасту"
   ]
  },
  {
   "cell_type": "code",
   "execution_count": 97,
   "metadata": {},
   "outputs": [
    {
     "data": {
      "text/plain": [
       "<seaborn.axisgrid.FacetGrid at 0x147b41e9fd0>"
      ]
     },
     "execution_count": 97,
     "metadata": {},
     "output_type": "execute_result"
    },
    {
     "data": {
      "image/png": "[encoded data removed]",
      "text/plain": [
       "<Figure size 360x360 with 1 Axes>"
      ]
     },
     "metadata": {
      "needs_background": "light"
     },
     "output_type": "display_data"
    }
   ],
   "source": [
    "sns.displot(data=data,x='Age',kind='kde')"
   ]
  },
  {
   "cell_type": "markdown",
   "id": "950868ef",
   "metadata": {},
   "source": [
    "Распределение пассажиров по возрасту (с учетом пола)"
   ]
  },
  {
   "cell_type": "code",
   "execution_count": 96,
   "id": "1e2c5cce",
   "metadata": {},
   "outputs": [
    {
     "data": {
      "text/plain": [
       "<seaborn.axisgrid.FacetGrid at 0x147b46ace20>"
      ]
     },
     "execution_count": 96,
     "metadata": {},
     "output_type": "execute_result"
    },
    {
     "data": {
      "image/png": "[encoded data removed]",
      "text/plain": [
       "<Figure size 430.5x360 with 1 Axes>"
      ]
     },
     "metadata": {
      "needs_background": "light"
     },
     "output_type": "display_data"
    }
   ],
   "source": [
    "sns.displot(data=data,x='Age',hue='Sex',kind='kde')"
   ]
  },
  {
   "cell_type": "markdown",
   "id": "1815cb72",
   "metadata": {},
   "source": [
    "Группировка данных по возрасту"
   ]
  },
  {
   "cell_type": "code",
   "execution_count": 31,
   "id": "18397076",
   "metadata": {},
   "outputs": [
    {
     "data": {
      "text/html": [
       "<div>\n",
       "<style scoped>\n",
       "    .dataframe tbody tr th:only-of-type {\n",
       "        vertical-align: middle;\n",
       "    }\n",
       "\n",
       "    .dataframe tbody tr th {\n",
       "        vertical-align: top;\n",
       "    }\n",
       "\n",
       "    .dataframe thead th {\n",
       "        text-align: right;\n",
       "    }\n",
       "</style>\n",
       "<table border=\"1\" class=\"dataframe\">\n",
       "  <thead>\n",
       "    <tr style=\"text-align: right;\">\n",
       "      <th></th>\n",
       "      <th>PassengerId</th>\n",
       "      <th>Survived</th>\n",
       "      <th>Pclass</th>\n",
       "      <th>Name</th>\n",
       "      <th>Sex</th>\n",
       "      <th>SibSp</th>\n",
       "      <th>Parch</th>\n",
       "      <th>Ticket</th>\n",
       "      <th>Fare</th>\n",
       "      <th>Cabin</th>\n",
       "      <th>Embarked</th>\n",
       "    </tr>\n",
       "    <tr>\n",
       "      <th>Age</th>\n",
       "      <th></th>\n",
       "      <th></th>\n",
       "      <th></th>\n",
       "      <th></th>\n",
       "      <th></th>\n",
       "      <th></th>\n",
       "      <th></th>\n",
       "      <th></th>\n",
       "      <th></th>\n",
       "      <th></th>\n",
       "      <th></th>\n",
       "    </tr>\n",
       "  </thead>\n",
       "  <tbody>\n",
       "    <tr>\n",
       "      <th>0.08</th>\n",
       "      <td>39</td>\n",
       "      <td>39</td>\n",
       "      <td>39</td>\n",
       "      <td>39</td>\n",
       "      <td>39</td>\n",
       "      <td>39</td>\n",
       "      <td>39</td>\n",
       "      <td>38</td>\n",
       "      <td>39</td>\n",
       "      <td>2</td>\n",
       "      <td>39</td>\n",
       "    </tr>\n",
       "    <tr>\n",
       "      <th>0.17</th>\n",
       "      <td>67</td>\n",
       "      <td>67</td>\n",
       "      <td>67</td>\n",
       "      <td>67</td>\n",
       "      <td>67</td>\n",
       "      <td>67</td>\n",
       "      <td>67</td>\n",
       "      <td>67</td>\n",
       "      <td>67</td>\n",
       "      <td>5</td>\n",
       "      <td>67</td>\n",
       "    </tr>\n",
       "    <tr>\n",
       "      <th>0.25</th>\n",
       "      <td>68</td>\n",
       "      <td>68</td>\n",
       "      <td>68</td>\n",
       "      <td>68</td>\n",
       "      <td>68</td>\n",
       "      <td>68</td>\n",
       "      <td>68</td>\n",
       "      <td>66</td>\n",
       "      <td>68</td>\n",
       "      <td>3</td>\n",
       "      <td>68</td>\n",
       "    </tr>\n",
       "    <tr>\n",
       "      <th>0.33</th>\n",
       "      <td>53</td>\n",
       "      <td>53</td>\n",
       "      <td>53</td>\n",
       "      <td>53</td>\n",
       "      <td>53</td>\n",
       "      <td>53</td>\n",
       "      <td>53</td>\n",
       "      <td>53</td>\n",
       "      <td>53</td>\n",
       "      <td>2</td>\n",
       "      <td>53</td>\n",
       "    </tr>\n",
       "    <tr>\n",
       "      <th>0.42</th>\n",
       "      <td>62</td>\n",
       "      <td>62</td>\n",
       "      <td>62</td>\n",
       "      <td>62</td>\n",
       "      <td>62</td>\n",
       "      <td>62</td>\n",
       "      <td>62</td>\n",
       "      <td>61</td>\n",
       "      <td>62</td>\n",
       "      <td>5</td>\n",
       "      <td>62</td>\n",
       "    </tr>\n",
       "    <tr>\n",
       "      <th>...</th>\n",
       "      <td>...</td>\n",
       "      <td>...</td>\n",
       "      <td>...</td>\n",
       "      <td>...</td>\n",
       "      <td>...</td>\n",
       "      <td>...</td>\n",
       "      <td>...</td>\n",
       "      <td>...</td>\n",
       "      <td>...</td>\n",
       "      <td>...</td>\n",
       "      <td>...</td>\n",
       "    </tr>\n",
       "    <tr>\n",
       "      <th>83.00</th>\n",
       "      <td>9</td>\n",
       "      <td>9</td>\n",
       "      <td>9</td>\n",
       "      <td>9</td>\n",
       "      <td>9</td>\n",
       "      <td>9</td>\n",
       "      <td>9</td>\n",
       "      <td>9</td>\n",
       "      <td>9</td>\n",
       "      <td>3</td>\n",
       "      <td>9</td>\n",
       "    </tr>\n",
       "    <tr>\n",
       "      <th>84.00</th>\n",
       "      <td>3</td>\n",
       "      <td>3</td>\n",
       "      <td>3</td>\n",
       "      <td>3</td>\n",
       "      <td>3</td>\n",
       "      <td>3</td>\n",
       "      <td>3</td>\n",
       "      <td>3</td>\n",
       "      <td>3</td>\n",
       "      <td>0</td>\n",
       "      <td>3</td>\n",
       "    </tr>\n",
       "    <tr>\n",
       "      <th>85.00</th>\n",
       "      <td>4</td>\n",
       "      <td>4</td>\n",
       "      <td>4</td>\n",
       "      <td>4</td>\n",
       "      <td>4</td>\n",
       "      <td>4</td>\n",
       "      <td>4</td>\n",
       "      <td>3</td>\n",
       "      <td>4</td>\n",
       "      <td>1</td>\n",
       "      <td>4</td>\n",
       "    </tr>\n",
       "    <tr>\n",
       "      <th>86.00</th>\n",
       "      <td>2</td>\n",
       "      <td>2</td>\n",
       "      <td>2</td>\n",
       "      <td>2</td>\n",
       "      <td>2</td>\n",
       "      <td>2</td>\n",
       "      <td>2</td>\n",
       "      <td>2</td>\n",
       "      <td>2</td>\n",
       "      <td>0</td>\n",
       "      <td>2</td>\n",
       "    </tr>\n",
       "    <tr>\n",
       "      <th>87.00</th>\n",
       "      <td>1</td>\n",
       "      <td>1</td>\n",
       "      <td>1</td>\n",
       "      <td>1</td>\n",
       "      <td>1</td>\n",
       "      <td>1</td>\n",
       "      <td>1</td>\n",
       "      <td>1</td>\n",
       "      <td>1</td>\n",
       "      <td>0</td>\n",
       "      <td>1</td>\n",
       "    </tr>\n",
       "  </tbody>\n",
       "</table>\n",
       "<p>173 rows × 11 columns</p>\n",
       "</div>"
      ],
      "text/plain": [
       "       PassengerId  Survived  Pclass  Name  Sex  SibSp  Parch  Ticket  Fare  \\\n",
       "Age                                                                           \n",
       "0.08            39        39      39    39   39     39     39      38    39   \n",
       "0.17            67        67      67    67   67     67     67      67    67   \n",
       "0.25            68        68      68    68   68     68     68      66    68   \n",
       "0.33            53        53      53    53   53     53     53      53    53   \n",
       "0.42            62        62      62    62   62     62     62      61    62   \n",
       "...            ...       ...     ...   ...  ...    ...    ...     ...   ...   \n",
       "83.00            9         9       9     9    9      9      9       9     9   \n",
       "84.00            3         3       3     3    3      3      3       3     3   \n",
       "85.00            4         4       4     4    4      4      4       3     4   \n",
       "86.00            2         2       2     2    2      2      2       2     2   \n",
       "87.00            1         1       1     1    1      1      1       1     1   \n",
       "\n",
       "       Cabin  Embarked  \n",
       "Age                     \n",
       "0.08       2        39  \n",
       "0.17       5        67  \n",
       "0.25       3        68  \n",
       "0.33       2        53  \n",
       "0.42       5        62  \n",
       "...      ...       ...  \n",
       "83.00      3         9  \n",
       "84.00      0         3  \n",
       "85.00      1         4  \n",
       "86.00      0         2  \n",
       "87.00      0         1  \n",
       "\n",
       "[173 rows x 11 columns]"
      ]
     },
     "execution_count": 31,
     "metadata": {},
     "output_type": "execute_result"
    }
   ],
   "source": [
    "data.groupby('Age').count()"
   ]
  },
  {
   "cell_type": "markdown",
   "id": "1b69345e",
   "metadata": {},
   "source": [
    "Данные о самом пожилом пассажире"
   ]
  },
  {
   "cell_type": "code",
   "execution_count": 32,
   "id": "2dc80e98",
   "metadata": {},
   "outputs": [
    {
     "data": {
      "text/html": [
       "<div>\n",
       "<style scoped>\n",
       "    .dataframe tbody tr th:only-of-type {\n",
       "        vertical-align: middle;\n",
       "    }\n",
       "\n",
       "    .dataframe tbody tr th {\n",
       "        vertical-align: top;\n",
       "    }\n",
       "\n",
       "    .dataframe thead th {\n",
       "        text-align: right;\n",
       "    }\n",
       "</style>\n",
       "<table border=\"1\" class=\"dataframe\">\n",
       "  <thead>\n",
       "    <tr style=\"text-align: right;\">\n",
       "      <th></th>\n",
       "      <th>PassengerId</th>\n",
       "      <th>Survived</th>\n",
       "      <th>Pclass</th>\n",
       "      <th>Name</th>\n",
       "      <th>Sex</th>\n",
       "      <th>Age</th>\n",
       "      <th>SibSp</th>\n",
       "      <th>Parch</th>\n",
       "      <th>Ticket</th>\n",
       "      <th>Fare</th>\n",
       "      <th>Cabin</th>\n",
       "      <th>Embarked</th>\n",
       "    </tr>\n",
       "  </thead>\n",
       "  <tbody>\n",
       "    <tr>\n",
       "      <th>55085</th>\n",
       "      <td>55085</td>\n",
       "      <td>1</td>\n",
       "      <td>2</td>\n",
       "      <td>Steelman, Rose</td>\n",
       "      <td>female</td>\n",
       "      <td>87.0</td>\n",
       "      <td>0</td>\n",
       "      <td>2</td>\n",
       "      <td>27657</td>\n",
       "      <td>35.8</td>\n",
       "      <td>NaN</td>\n",
       "      <td>C</td>\n",
       "    </tr>\n",
       "  </tbody>\n",
       "</table>\n",
       "</div>"
      ],
      "text/plain": [
       "       PassengerId  Survived  Pclass            Name     Sex   Age  SibSp  \\\n",
       "55085        55085         1       2  Steelman, Rose  female  87.0      0   \n",
       "\n",
       "       Parch Ticket  Fare Cabin Embarked  \n",
       "55085      2  27657  35.8   NaN        C  "
      ]
     },
     "execution_count": 32,
     "metadata": {},
     "output_type": "execute_result"
    }
   ],
   "source": [
    "data.query('Age==87')"
   ]
  },
  {
   "cell_type": "code",
   "execution_count": null,
   "id": "9a551a7e",
   "metadata": {},
   "outputs": [],
   "source": []
  },
  {
   "cell_type": "code",
   "execution_count": null,
   "id": "7ddf2ef4",
   "metadata": {},
   "outputs": [],
   "source": []
  },
  {
   "cell_type": "markdown",
   "id": "7c885bdb",
   "metadata": {},
   "source": [
    "Распределение числа пассажиров по выживаемости"
   ]
  },
  {
   "cell_type": "code",
   "execution_count": 82,
   "id": "6c54fbe0",
   "metadata": {},
   "outputs": [
    {
     "name": "stdout",
     "output_type": "stream",
     "text": [
      "0    0.57226\n",
      "1    0.42774\n",
      "Name: Survived, dtype: float64\n"
     ]
    },
    {
     "data": {
      "text/plain": [
       "<AxesSubplot:xlabel='Survived', ylabel='count'>"
      ]
     },
     "execution_count": 82,
     "metadata": {},
     "output_type": "execute_result"
    },
    {
     "data": {
      "image/png": "[encoded data removed]",
      "text/plain": [
       "<Figure size 432x288 with 1 Axes>"
      ]
     },
     "metadata": {
      "needs_background": "light"
     },
     "output_type": "display_data"
    }
   ],
   "source": [
    "print(data['Survived'].value_counts(normalize=True))\n",
    "sns.countplot(x='Survived',data=data,order=[1,0])"
   ]
  },
  {
   "cell_type": "markdown",
   "id": "46133e01",
   "metadata": {},
   "source": [
    "Распределение числа пассажиров по полу"
   ]
  },
  {
   "cell_type": "code",
   "execution_count": 85,
   "metadata": {},
   "outputs": [
    {
     "name": "stdout",
     "output_type": "stream",
     "text": [
      "male      0.50761\n",
      "female    0.37322\n",
      "child     0.11917\n",
      "Name: Sex, dtype: float64\n"
     ]
    },
    {
     "data": {
      "text/plain": [
       "<AxesSubplot:xlabel='Sex', ylabel='count'>"
      ]
     },
     "execution_count": 85,
     "metadata": {},
     "output_type": "execute_result"
    },
    {
     "data": {
      "image/png": "[encoded data removed]",
      "text/plain": [
       "<Figure size 432x288 with 1 Axes>"
      ]
     },
     "metadata": {
      "needs_background": "light"
     },
     "output_type": "display_data"
    }
   ],
   "source": [
    "print(data['Sex'].value_counts(normalize=True))\n",
    "sns.countplot(x='Sex',data=data,order=['male','female','child'])"
   ]
  },
  {
   "cell_type": "markdown",
   "id": "79e25a5d",
   "metadata": {},
   "source": [
    "Распределение числа пассажиров по классам"
   ]
  },
  {
   "cell_type": "code",
   "execution_count": 105,
   "id": "f91ead39",
   "metadata": {},
   "outputs": [
    {
     "name": "stdout",
     "output_type": "stream",
     "text": [
      "3    0.41006\n",
      "1    0.30315\n",
      "2    0.28679\n",
      "Name: Pclass, dtype: float64\n"
     ]
    },
    {
     "data": {
      "text/plain": [
       "<AxesSubplot:xlabel='Pclass', ylabel='count'>"
      ]
     },
     "execution_count": 105,
     "metadata": {},
     "output_type": "execute_result"
    },
    {
     "data": {
      "image/png": "[encoded data removed]",
      "text/plain": [
       "<Figure size 432x288 with 1 Axes>"
      ]
     },
     "metadata": {
      "needs_background": "light"
     },
     "output_type": "display_data"
    }
   ],
   "source": [
    "print(data['Pclass'].value_counts(normalize=True))\n",
    "sns.countplot(x='Pclass',data=data,order=[1,2,3])"
   ]
  },
  {
   "cell_type": "code",
   "execution_count": null,
   "id": "574b1af8",
   "metadata": {},
   "outputs": [],
   "source": []
  },
  {
   "cell_type": "code",
   "execution_count": null,
   "id": "05a751f5",
   "metadata": {},
   "outputs": [],
   "source": []
  },
  {
   "cell_type": "markdown",
   "id": "f329770b",
   "metadata": {},
   "source": [
    "Распределение числа пассажиров по выживаемости (с учетом пола)"
   ]
  },
  {
   "cell_type": "code",
   "execution_count": 100,
   "id": "2bff1762",
   "metadata": {},
   "outputs": [
    {
     "name": "stdout",
     "output_type": "stream",
     "text": [
      "Survived  Sex   \n",
      "0         male      0.704697\n",
      "          female    0.178136\n",
      "          child     0.117167\n",
      "1         female    0.634217\n",
      "          male      0.243933\n",
      "          child     0.121850\n",
      "Name: Sex, dtype: float64\n"
     ]
    },
    {
     "data": {
      "text/plain": [
       "<AxesSubplot:xlabel='Survived', ylabel='count'>"
      ]
     },
     "execution_count": 100,
     "metadata": {},
     "output_type": "execute_result"
    },
    {
     "data": {
      "image/png": "[encoded data removed]",
      "text/plain": [
       "<Figure size 432x288 with 1 Axes>"
      ]
     },
     "metadata": {
      "needs_background": "light"
     },
     "output_type": "display_data"
    }
   ],
   "source": [
    "print(data.groupby('Survived')['Sex'].value_counts(normalize=True))\n",
    "sns.countplot(x='Survived',hue='Sex',data=data,order=[1,0])"
   ]
  },
  {
   "cell_type": "markdown",
   "id": "4deaae14",
   "metadata": {},
   "source": [
    "Распределение числа пассажиров по выживаемости (с учетом класса)"
   ]
  },
  {
   "cell_type": "code",
   "execution_count": 106,
   "id": "4b458b1d",
   "metadata": {},
   "outputs": [
    {
     "name": "stdout",
     "output_type": "stream",
     "text": [
      "Survived  Pclass\n",
      "0         3         0.539353\n",
      "          2         0.238039\n",
      "          1         0.222609\n",
      "1         1         0.410904\n",
      "          2         0.352013\n",
      "          3         0.237083\n",
      "Name: Pclass, dtype: float64\n"
     ]
    },
    {
     "data": {
      "text/plain": [
       "<AxesSubplot:xlabel='Survived', ylabel='count'>"
      ]
     },
     "execution_count": 106,
     "metadata": {},
     "output_type": "execute_result"
    },
    {
     "data": {
      "image/png": "[encoded data removed]",
      "text/plain": [
       "<Figure size 432x288 with 1 Axes>"
      ]
     },
     "metadata": {
      "needs_background": "light"
     },
     "output_type": "display_data"
    }
   ],
   "source": [
    "print(data.groupby('Survived')['Pclass'].value_counts(normalize=True))\n",
    "sns.countplot(x='Survived',hue='Pclass',data=data,order=[1,0])"
   ]
  },
  {
   "cell_type": "markdown",
   "id": "50b6cfeb",
   "metadata": {},
   "source": [
    "Распределение числа пассажиров по полу (с учетом выживаемости)"
   ]
  },
  {
   "cell_type": "code",
   "execution_count": 84,
   "id": "b8b6fc67",
   "metadata": {},
   "outputs": [
    {
     "name": "stdout",
     "output_type": "stream",
     "text": [
      "Sex     Survived\n",
      "child   0           0.562642\n",
      "        1           0.437358\n",
      "female  1           0.726864\n",
      "        0           0.273136\n",
      "male    0           0.794448\n",
      "        1           0.205552\n",
      "Name: Survived, dtype: float64\n"
     ]
    },
    {
     "data": {
      "text/plain": [
       "<AxesSubplot:xlabel='Sex', ylabel='count'>"
      ]
     },
     "execution_count": 84,
     "metadata": {},
     "output_type": "execute_result"
    },
    {
     "data": {
      "image/png": "[encoded data removed]",
      "text/plain": [
       "<Figure size 432x288 with 1 Axes>"
      ]
     },
     "metadata": {
      "needs_background": "light"
     },
     "output_type": "display_data"
    }
   ],
   "source": [
    "print(data.groupby('Sex')['Survived'].value_counts(normalize=True))\n",
    "sns.countplot(x='Sex',hue='Survived',data=data,order=['male','female','child'])"
   ]
  },
  {
   "cell_type": "markdown",
   "id": "b4a0c32a",
   "metadata": {},
   "source": [
    "Распределение числа пассажиров по полу (с учетом класса)"
   ]
  },
  {
   "cell_type": "code",
   "execution_count": 107,
   "id": "c5a45ad2",
   "metadata": {},
   "outputs": [
    {
     "name": "stdout",
     "output_type": "stream",
     "text": [
      "Sex     Pclass\n",
      "child   3         0.570446\n",
      "        2         0.338760\n",
      "        1         0.090795\n",
      "female  1         0.418225\n",
      "        2         0.335941\n",
      "        3         0.245834\n",
      "male    3         0.493154\n",
      "        1         0.268395\n",
      "        2         0.238451\n",
      "Name: Pclass, dtype: float64\n"
     ]
    },
    {
     "data": {
      "text/plain": [
       "<AxesSubplot:xlabel='Sex', ylabel='count'>"
      ]
     },
     "execution_count": 107,
     "metadata": {},
     "output_type": "execute_result"
    },
    {
     "data": {
      "image/png": "[encoded data removed]",
      "text/plain": [
       "<Figure size 432x288 with 1 Axes>"
      ]
     },
     "metadata": {
      "needs_background": "light"
     },
     "output_type": "display_data"
    }
   ],
   "source": [
    "print(data.groupby('Sex')['Pclass'].value_counts(normalize=True))\n",
    "sns.countplot(x='Sex',hue='Pclass',data=data,order=['male','female','child'])"
   ]
  },
  {
   "cell_type": "markdown",
   "id": "679b2d3d",
   "metadata": {},
   "source": [
    "Распределение числа пассажиров по классам (с учетом выживаемости)"
   ]
  },
  {
   "cell_type": "code",
   "execution_count": 110,
   "id": "b9a27aff",
   "metadata": {},
   "outputs": [
    {
     "name": "stdout",
     "output_type": "stream",
     "text": [
      "Pclass  Survived\n",
      "1       1           0.579779\n",
      "        0           0.420221\n",
      "2       1           0.525018\n",
      "        0           0.474982\n",
      "3       0           0.752695\n",
      "        1           0.247305\n",
      "Name: Survived, dtype: float64\n"
     ]
    },
    {
     "data": {
      "text/plain": [
       "<AxesSubplot:xlabel='Pclass', ylabel='count'>"
      ]
     },
     "execution_count": 110,
     "metadata": {},
     "output_type": "execute_result"
    },
    {
     "data": {
      "image/png": "[encoded data removed]",
      "text/plain": [
       "<Figure size 432x288 with 1 Axes>"
      ]
     },
     "metadata": {
      "needs_background": "light"
     },
     "output_type": "display_data"
    }
   ],
   "source": [
    "print(data.groupby('Pclass')['Survived'].value_counts(normalize=True))\n",
    "sns.countplot(x='Pclass',hue='Survived',data=data,order=[1,2,3])"
   ]
  },
  {
   "cell_type": "markdown",
   "id": "9b47d30e",
   "metadata": {},
   "source": [
    "Распределение числа пассажиров по классам (с учетом пола)"
   ]
  },
  {
   "cell_type": "code",
   "execution_count": 111,
   "id": "75a3be61",
   "metadata": {},
   "outputs": [
    {
     "name": "stdout",
     "output_type": "stream",
     "text": [
      "Pclass  Sex   \n",
      "1       female    0.514894\n",
      "        male      0.449414\n",
      "        child     0.035692\n",
      "2       female    0.437184\n",
      "        male      0.422051\n",
      "        child     0.140765\n",
      "3       male      0.610472\n",
      "        female    0.223748\n",
      "        child     0.165781\n",
      "Name: Sex, dtype: float64\n"
     ]
    },
    {
     "data": {
      "text/plain": [
       "<AxesSubplot:xlabel='Pclass', ylabel='count'>"
      ]
     },
     "execution_count": 111,
     "metadata": {},
     "output_type": "execute_result"
    },
    {
     "data": {
      "image/png": "[encoded data removed]",
      "text/plain": [
       "<Figure size 432x288 with 1 Axes>"
      ]
     },
     "metadata": {
      "needs_background": "light"
     },
     "output_type": "display_data"
    }
   ],
   "source": [
    "print(data.groupby('Pclass')['Sex'].value_counts(normalize=True))\n",
    "sns.countplot(x='Pclass',hue='Sex',data=data,order=[1,2,3])"
   ]
  },
  {
   "cell_type": "code",
   "execution_count": null,
   "id": "4e932459",
   "metadata": {},
   "outputs": [],
   "source": []
  },
  {
   "cell_type": "markdown",
   "id": "70a3f83b",
   "metadata": {},
   "source": []
  },
  {
   "cell_type": "code",
   "execution_count": null,
   "id": "1c7ff7c7",
   "metadata": {},
   "outputs": [],
   "source": []
  },
  {
   "cell_type": "markdown",
   "id": "f3cd5953",
   "metadata": {},
   "source": [
    "Распределение числа пассажиров по выживаемости (с учетом пола по классам)"
   ]
  },
  {
   "cell_type": "code",
   "execution_count": 72,
   "id": "0e5af9e3",
   "metadata": {},
   "outputs": [
    {
     "data": {
      "text/plain": [
       "<seaborn.axisgrid.FacetGrid at 0x147b0304d90>"
      ]
     },
     "execution_count": 72,
     "metadata": {},
     "output_type": "execute_result"
    },
    {
     "data": {
      "image/png": "[encoded data removed]",
      "text/plain": [
       "<Figure size 762.375x360 with 2 Axes>"
      ]
     },
     "metadata": {
      "needs_background": "light"
     },
     "output_type": "display_data"
    }
   ],
   "source": [
    "sns.catplot(x='Sex',hue='Pclass',col='Survived',data=data,kind='count',order=['male','female','child'])"
   ]
  },
  {
   "cell_type": "markdown",
   "id": "638a9b7d",
   "metadata": {},
   "source": [
    "Распределение числа пассажиров по выживаемости (с учетом класса по пола)"
   ]
  },
  {
   "cell_type": "code",
   "execution_count": 120,
   "metadata": {},
   "outputs": [
    {
     "data": {
      "text/plain": [
       "<seaborn.axisgrid.FacetGrid at 0x147bd97c490>"
      ]
     },
     "execution_count": 120,
     "metadata": {},
     "output_type": "execute_result"
    },
    {
     "data": {
      "image/png": "[encoded data removed]",
      "text/plain": [
       "<Figure size 790.5x360 with 2 Axes>"
      ]
     },
     "metadata": {
      "needs_background": "light"
     },
     "output_type": "display_data"
    }
   ],
   "source": [
    "sns.catplot(x='Pclass',hue='Sex',col='Survived',data=data,kind='count',order=[1,2,3])"
   ]
  },
  {
   "cell_type": "markdown",
   "id": "76f58a46",
   "metadata": {},
   "source": [
    "Распределение числа пассажиров по полу (с учетом выживаемости по классам)"
   ]
  },
  {
   "cell_type": "code",
   "execution_count": 119,
   "id": "ced0f604",
   "metadata": {},
   "outputs": [
    {
     "data": {
      "text/plain": [
       "<seaborn.axisgrid.FacetGrid at 0x147bd993b50>"
      ]
     },
     "execution_count": 119,
     "metadata": {},
     "output_type": "execute_result"
    },
    {
     "data": {
      "image/png": "[encoded data removed]",
      "text/plain": [
       "<Figure size 1122.38x360 with 3 Axes>"
      ]
     },
     "metadata": {
      "needs_background": "light"
     },
     "output_type": "display_data"
    }
   ],
   "source": [
    "sns.catplot(x='Survived',hue='Pclass',col='Sex',data=data,kind='count',order=[1,0])"
   ]
  },
  {
   "cell_type": "markdown",
   "id": "89c2ff14",
   "metadata": {},
   "source": [
    "Распределение числа пассажиров по полу (с учетом классов по выживаемости)"
   ]
  },
  {
   "cell_type": "code",
   "execution_count": 121,
   "id": "7f761dac",
   "metadata": {},
   "outputs": [
    {
     "data": {
      "text/plain": [
       "<seaborn.axisgrid.FacetGrid at 0x147bf3ac460>"
      ]
     },
     "execution_count": 121,
     "metadata": {},
     "output_type": "execute_result"
    },
    {
     "data": {
      "image/png": "[encoded data removed]",
      "text/plain": [
       "<Figure size 1131.88x360 with 3 Axes>"
      ]
     },
     "metadata": {
      "needs_background": "light"
     },
     "output_type": "display_data"
    }
   ],
   "source": [
    "sns.catplot(x='Pclass',hue='Survived',col='Sex',data=data,kind='count',order=[1,2,3])"
   ]
  },
  {
   "cell_type": "markdown",
   "id": "d2bb0904",
   "metadata": {},
   "source": [
    "Распределение числа пассажиров по классам (с учетом выживаемости по полу)"
   ]
  },
  {
   "cell_type": "code",
   "execution_count": 118,
   "id": "0343b1ec",
   "metadata": {},
   "outputs": [
    {
     "data": {
      "text/plain": [
       "<seaborn.axisgrid.FacetGrid at 0x147bcec0040>"
      ]
     },
     "execution_count": 118,
     "metadata": {},
     "output_type": "execute_result"
    },
    {
     "data": {
      "image/png": "[encoded data removed]",
      "text/plain": [
       "<Figure size 1150.5x360 with 3 Axes>"
      ]
     },
     "metadata": {
      "needs_background": "light"
     },
     "output_type": "display_data"
    }
   ],
   "source": [
    "sns.catplot(x='Survived',hue='Sex',col='Pclass',data=data,kind='count',order=[1,0])"
   ]
  },
  {
   "cell_type": "markdown",
   "id": "8f0c8dba",
   "metadata": {},
   "source": [
    "Распределение числа пассажиров по классам (с учетом пола по выживаемости)"
   ]
  },
  {
   "cell_type": "code",
   "execution_count": 117,
   "id": "27ab55a4",
   "metadata": {},
   "outputs": [
    {
     "data": {
      "text/plain": [
       "<seaborn.axisgrid.FacetGrid at 0x147bd5ce700>"
      ]
     },
     "execution_count": 117,
     "metadata": {},
     "output_type": "execute_result"
    },
    {
     "data": {
      "image/png": "[encoded data removed]",
      "text/plain": [
       "<Figure size 1131.88x360 with 3 Axes>"
      ]
     },
     "metadata": {
      "needs_background": "light"
     },
     "output_type": "display_data"
    }
   ],
   "source": [
    "sns.catplot(x='Sex',hue='Survived',col='Pclass',data=data,kind='count',order=['male','female','child'])"
   ]
  },
  {
   "cell_type": "code",
   "execution_count": null,
   "id": "11b0e825",
   "metadata": {},
   "outputs": [],
   "source": []
  },
  {
   "cell_type": "code",
   "execution_count": null,
   "id": "6cb1c55a",
   "metadata": {},
   "outputs": [],
   "source": []
  },
  {
   "cell_type": "code",
   "execution_count": 74,
   "id": "827840d8",
   "metadata": {},
   "outputs": [
    {
     "data": {
      "text/plain": [
       "<AxesSubplot:xlabel='Sex', ylabel='Age'>"
      ]
     },
     "execution_count": 74,
     "metadata": {},
     "output_type": "execute_result"
    },
    {
     "data": {
      "image/png": "[encoded data removed]",
      "text/plain": [
       "<Figure size 432x288 with 1 Axes>"
      ]
     },
     "metadata": {
      "needs_background": "light"
     },
     "output_type": "display_data"
    }
   ],
   "source": [
    "sns.boxplot(x='Sex',y='Age',data=data,order=['male','female','child'])"
   ]
  },
  {
   "cell_type": "code",
   "execution_count": null,
   "id": "6c41fb3d",
   "metadata": {},
   "outputs": [],
   "source": []
  },
  {
   "cell_type": "code",
   "execution_count": null,
   "id": "4bc2f9f7",
   "metadata": {},
   "outputs": [],
   "source": []
  },
  {
   "cell_type": "code",
   "execution_count": null,
   "id": "59cce1e3",
   "metadata": {},
   "outputs": [],
   "source": []
  },
  {
   "cell_type": "code",
   "execution_count": null,
   "metadata": {},
   "outputs": [],
   "source": []
  },
  {
   "cell_type": "code",
   "execution_count": null,
   "metadata": {},
   "outputs": [],
   "source": []
  },
  {
   "cell_type": "code",
   "execution_count": null,
   "id": "6b981d68",
   "metadata": {},
   "outputs": [],
   "source": []
  },
  {
   "cell_type": "code",
   "execution_count": null,
   "id": "e443ca82",
   "metadata": {},
   "outputs": [],
   "source": []
  },
  {
   "cell_type": "markdown",
   "id": "034945c8",
   "metadata": {},
   "source": [
    "# Summary"
   ]
  },
  {
   "cell_type": "markdown",
   "id": "a8d7d71f",
   "metadata": {},
   "source": [
    "Доля пассажиров, путешестовавших без родственников: 73,3%\n",
    "\n",
    "Возраст самого молодого пассажира: 1 месяц\n",
    "\n",
    "Самый пожилой пассажир: Rose Steelman, 87 лет, выжила\n",
    "\n",
    "Наиболее часто встречающийся возраст: 25 лет"
   ]
  },
  {
   "cell_type": "markdown",
   "id": "9239a6ac",
   "metadata": {},
   "source": [
    "Доля выживших: 42.8%\n",
    "\n",
    "Доля пассажиров по полу: мужчин - 50.8%, женщин - 37.3%, детей - 11.9%\n",
    "\n",
    "Доля выживших по полу: мужчин - 20.6%, женищин - 72.7%, детей - 43.7%"
   ]
  }
 ],
 "metadata": {
  "kernelspec": {
   "display_name": "Python 3 (ipykernel)",
   "language": "python",
   "name": "python3"
  },
  "language_info": {
   "codemirror_mode": {
    "name": "ipython",
    "version": 3
   },
   "file_extension": ".py",
   "mimetype": "text/x-python",
   "name": "python",
   "nbconvert_exporter": "python",
   "pygments_lexer": "ipython3",
   "version": "3.9.7"
  },
  "toc": {
   "base_numbering": 1,
   "nav_menu": {},
   "number_sections": true,
   "sideBar": true,
   "skip_h1_title": false,
   "title_cell": "Table of Contents",
   "title_sidebar": "Contents",
   "toc_cell": false,
   "toc_position": {},
   "toc_section_display": true,
   "toc_window_display": false
  }
 },
 "nbformat": 4,
 "nbformat_minor": 5
}
